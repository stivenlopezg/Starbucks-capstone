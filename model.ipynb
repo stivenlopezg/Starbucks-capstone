{
 "cells": [
  {
   "cell_type": "code",
   "execution_count": 1,
   "metadata": {
    "collapsed": true
   },
   "outputs": [],
   "source": [
    "import pandas as pd\n",
    "from sklearn.preprocessing import StandardScaler\n",
    "from sklearn.linear_model import LogisticRegression\n",
    "from sklearn.pipeline import Pipeline, FeatureUnion\n",
    "from sklearn.model_selection import train_test_split, cross_val_score\n",
    "from sklearn.ensemble import RandomForestClassifier, GradientBoostingClassifier\n",
    "from classification_model.config import numerical_features, categorical_features,\\\n",
    "                                        date_features, features, new_numerical_features\n",
    "from classification_model.evaluation import generate_report, confusion_matrix,\\\n",
    "                                            calculate_metrics, metrics_summary\n",
    "from classification_model.custom_pipeline import CalculateAntiquity, NumberChannels, ConvertDtypes,\\\n",
    "                                                 ColumnSelector, GetDummies, GetDataFrame, Proportion"
   ]
  },
  {
   "cell_type": "code",
   "execution_count": 2,
   "outputs": [],
   "source": [
    "train_data = pd.read_csv('data/train_data.csv', sep=';')\n",
    "y_train = pd.read_csv('data/train_label.csv', sep=';')\n",
    "test_data = pd.read_csv('data/test_data.csv', sep=';')\n",
    "y_test = pd.read_csv('data/test_label.csv', sep=';')"
   ],
   "metadata": {
    "collapsed": false,
    "pycharm": {
     "name": "#%%\n"
    }
   }
  },
  {
   "cell_type": "code",
   "execution_count": 3,
   "outputs": [
    {
     "data": {
      "text/plain": "                          person_id  time                          offer_id  \\\n0  374007b9d7d547f0ba956cf84039ca8f   408  f19421c1d4aa40978ebb69ca19b0e20d   \n1  f395ba6ec7d64a5880ceef5aefb7a23a    12  ae264e3637204a6fb9bb56bc8210ddfd   \n\n   amount gender   age  became_member_on   income  difficulty  duration  \\\n0     0.0      M  59.0        20161015.0  83000.0         5.0       5.0   \n1     0.0      F  55.0        20180122.0  75000.0        10.0       7.0   \n\n  offer_type  web  mobile  email  social  reward  \n0       bogo  1.0     1.0    1.0     1.0       0  \n1       bogo  0.0     1.0    1.0     1.0       0  ",
      "text/html": "<div>\n<style scoped>\n    .dataframe tbody tr th:only-of-type {\n        vertical-align: middle;\n    }\n\n    .dataframe tbody tr th {\n        vertical-align: top;\n    }\n\n    .dataframe thead th {\n        text-align: right;\n    }\n</style>\n<table border=\"1\" class=\"dataframe\">\n  <thead>\n    <tr style=\"text-align: right;\">\n      <th></th>\n      <th>person_id</th>\n      <th>time</th>\n      <th>offer_id</th>\n      <th>amount</th>\n      <th>gender</th>\n      <th>age</th>\n      <th>became_member_on</th>\n      <th>income</th>\n      <th>difficulty</th>\n      <th>duration</th>\n      <th>offer_type</th>\n      <th>web</th>\n      <th>mobile</th>\n      <th>email</th>\n      <th>social</th>\n      <th>reward</th>\n    </tr>\n  </thead>\n  <tbody>\n    <tr>\n      <th>0</th>\n      <td>374007b9d7d547f0ba956cf84039ca8f</td>\n      <td>408</td>\n      <td>f19421c1d4aa40978ebb69ca19b0e20d</td>\n      <td>0.0</td>\n      <td>M</td>\n      <td>59.0</td>\n      <td>20161015.0</td>\n      <td>83000.0</td>\n      <td>5.0</td>\n      <td>5.0</td>\n      <td>bogo</td>\n      <td>1.0</td>\n      <td>1.0</td>\n      <td>1.0</td>\n      <td>1.0</td>\n      <td>0</td>\n    </tr>\n    <tr>\n      <th>1</th>\n      <td>f395ba6ec7d64a5880ceef5aefb7a23a</td>\n      <td>12</td>\n      <td>ae264e3637204a6fb9bb56bc8210ddfd</td>\n      <td>0.0</td>\n      <td>F</td>\n      <td>55.0</td>\n      <td>20180122.0</td>\n      <td>75000.0</td>\n      <td>10.0</td>\n      <td>7.0</td>\n      <td>bogo</td>\n      <td>0.0</td>\n      <td>1.0</td>\n      <td>1.0</td>\n      <td>1.0</td>\n      <td>0</td>\n    </tr>\n  </tbody>\n</table>\n</div>"
     },
     "execution_count": 3,
     "metadata": {},
     "output_type": "execute_result"
    }
   ],
   "source": [
    "train_data.head(2)"
   ],
   "metadata": {
    "collapsed": false,
    "pycharm": {
     "name": "#%%\n"
    }
   }
  },
  {
   "cell_type": "code",
   "execution_count": 4,
   "outputs": [],
   "source": [
    "general_transformations = Pipeline([('dtypes', ConvertDtypes(numerical=numerical_features,\n",
    "                                                             categorical=categorical_features,\n",
    "                                                             date=date_features)),\n",
    "                                    ('number_channels', NumberChannels(columns=['mobile', 'web', 'social', 'email'])),\n",
    "                                    ('antiquity', CalculateAntiquity(column=date_features[0])),\n",
    "                                    ('proportion', Proportion(numerator='reward',\n",
    "                                                              denominator='difficulty'))])\n",
    "\n",
    "numerical_transformations = Pipeline([('selector', ColumnSelector(columns=new_numerical_features)),\n",
    "                                      ('scaler', StandardScaler()),\n",
    "                                      ('df', GetDataFrame(columns=new_numerical_features))])\n",
    "\n",
    "categorical_transformations = Pipeline([('selector', ColumnSelector(columns=categorical_features)),\n",
    "                                        ('ohe', GetDummies(columns=categorical_features))])\n",
    "\n",
    "preprocessor = Pipeline([('transformations', general_transformations),\n",
    "                         ('features', FeatureUnion([\n",
    "                             ('numerical', numerical_transformations),\n",
    "                             ('categorical', categorical_transformations)\n",
    "                         ])),\n",
    "                         ('df', GetDataFrame(columns=features))])\n"
   ],
   "metadata": {
    "collapsed": false,
    "pycharm": {
     "name": "#%%\n"
    }
   }
  }
 ],
 "metadata": {
  "kernelspec": {
   "display_name": "Python 3",
   "language": "python",
   "name": "python3"
  },
  "language_info": {
   "codemirror_mode": {
    "name": "ipython",
    "version": 2
   },
   "file_extension": ".py",
   "mimetype": "text/x-python",
   "name": "python",
   "nbconvert_exporter": "python",
   "pygments_lexer": "ipython2",
   "version": "2.7.6"
  }
 },
 "nbformat": 4,
 "nbformat_minor": 0
}