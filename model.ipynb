{
 "cells": [
  {
   "cell_type": "code",
   "execution_count": 1,
   "metadata": {
    "collapsed": true
   },
   "outputs": [],
   "source": [
    "import warnings\n",
    "import numpy as np\n",
    "import pandas as pd\n",
    "from xgboost import XGBClassifier\n",
    "from hyperopt import fmin, tpe, hp\n",
    "from sklearn.preprocessing import StandardScaler\n",
    "from sklearn.linear_model import LogisticRegression\n",
    "from sklearn.pipeline import Pipeline, FeatureUnion\n",
    "from sklearn.model_selection import cross_val_score\n",
    "from sklearn.ensemble import RandomForestClassifier, GradientBoostingClassifier\n",
    "from classification_model.config import numerical_features, categorical_features,\\\n",
    "                                        date_features, features, new_numerical_features\n",
    "from classification_model.evaluation import generate_report, confusion_matrix,\\\n",
    "                                            calculate_metrics, metrics_summary\n",
    "from classification_model.custom_pipeline import CalculateAntiquity, NumberChannels, ConvertDtypes,\\\n",
    "                                                 ColumnSelector, GetDummies, GetDataFrame\n",
    "\n",
    "warnings.filterwarnings('ignore')"
   ]
  },
  {
   "cell_type": "code",
   "execution_count": 2,
   "outputs": [],
   "source": [
    "train_data = pd.read_csv('data/train_data.csv', sep=';')\n",
    "y_train = pd.read_csv('data/train_label.csv', sep=';')\n",
    "test_data = pd.read_csv('data/test_data.csv', sep=';')\n",
    "y_test = pd.read_csv('data/test_label.csv', sep=';')"
   ],
   "metadata": {
    "collapsed": false,
    "pycharm": {
     "name": "#%%\n"
    }
   }
  },
  {
   "cell_type": "code",
   "execution_count": 3,
   "outputs": [],
   "source": [
    "y_train = y_train.pop('event')\n",
    "y_test = y_test.pop('event')"
   ],
   "metadata": {
    "collapsed": false,
    "pycharm": {
     "name": "#%%\n"
    }
   }
  },
  {
   "cell_type": "code",
   "execution_count": 4,
   "outputs": [],
   "source": [
    "general_transformations = Pipeline([('dtypes', ConvertDtypes(numerical=numerical_features,\n",
    "                                                             categorical=categorical_features,\n",
    "                                                             date=date_features)),\n",
    "                                    ('number_channels', NumberChannels(columns=['mobile', 'web', 'social', 'email'])),\n",
    "                                    ('antiquity', CalculateAntiquity(column=date_features[0]))])\n",
    "\n",
    "numerical_transformations = Pipeline([('selector', ColumnSelector(columns=new_numerical_features)),\n",
    "                                      ('scaler', StandardScaler()),\n",
    "                                      ('df', GetDataFrame(columns=new_numerical_features))])\n",
    "\n",
    "categorical_transformations = Pipeline([('selector', ColumnSelector(columns=categorical_features)),\n",
    "                                        ('ohe', GetDummies(columns=categorical_features))])\n",
    "\n",
    "preprocessor = Pipeline([('transformations', general_transformations),\n",
    "                         ('features', FeatureUnion([\n",
    "                             ('numerical', numerical_transformations),\n",
    "                             ('categorical', categorical_transformations)\n",
    "                         ])),\n",
    "                         ('df', GetDataFrame(columns=features))])"
   ],
   "metadata": {
    "collapsed": false,
    "pycharm": {
     "name": "#%%\n"
    }
   }
  },
  {
   "cell_type": "code",
   "execution_count": 5,
   "outputs": [],
   "source": [
    "lr = Pipeline([('transformer', preprocessor),\n",
    "               ('estimator', LogisticRegression(class_weight='balanced',\n",
    "                                                random_state=42))])\n",
    "rf = Pipeline([('transformer', preprocessor),\n",
    "               ('estimator', RandomForestClassifier(max_depth=4,\n",
    "                                                    oob_score=True,\n",
    "                                                    random_state=42))])\n",
    "gb = Pipeline([('transformer', preprocessor),\n",
    "               ('estimator', GradientBoostingClassifier(learning_rate=0.08,\n",
    "                                                        subsample=0.8,\n",
    "                                                        max_depth=4,\n",
    "                                                        random_state=42))])\n",
    "xgb = Pipeline([('transformer', preprocessor),\n",
    "                ('estimator', XGBClassifier(max_depth=4,\n",
    "                                            learning_rate=0.08,\n",
    "                                            subsample=0.8,\n",
    "                                            random_state=42))])"
   ],
   "metadata": {
    "collapsed": false,
    "pycharm": {
     "name": "#%%\n"
    }
   }
  },
  {
   "cell_type": "code",
   "execution_count": 6,
   "outputs": [],
   "source": [
    "roc = {}\n",
    "recall = {}\n",
    "precision = {}\n",
    "f_score = {}\n",
    "\n",
    "roc['lr'] = cross_val_score(estimator=lr, X=train_data, y=y_train, scoring='roc_auc', cv=10).tolist()\n",
    "roc['rf'] = cross_val_score(estimator=rf, X=train_data, y=y_train, scoring='roc_auc', cv=10).tolist()\n",
    "roc['gb'] = cross_val_score(estimator=gb, X=train_data, y=y_train, scoring='roc_auc', cv=10).tolist()\n",
    "roc['xgb'] = cross_val_score(estimator=xgb, X=train_data, y=y_train, scoring='roc_auc', cv=10).tolist()\n",
    "recall['lr'] = cross_val_score(estimator=lr, X=train_data, y=y_train, scoring='recall', cv=10).tolist()\n",
    "recall['rf'] = cross_val_score(estimator=rf, X=train_data, y=y_train, scoring='recall', cv=10).tolist()\n",
    "recall['gb'] = cross_val_score(estimator=gb, X=train_data, y=y_train, scoring='recall', cv=10).tolist()\n",
    "recall['xgb'] = cross_val_score(estimator=xgb, X=train_data, y=y_train, scoring='recall', cv=10).tolist()\n",
    "precision['lr'] = cross_val_score(estimator=lr, X=train_data, y=y_train, scoring='precision', cv=10).tolist()\n",
    "precision['rf'] = cross_val_score(estimator=rf, X=train_data, y=y_train, scoring='precision', cv=10).tolist()\n",
    "precision['gb'] = cross_val_score(estimator=gb, X=train_data, y=y_train, scoring='precision', cv=10).tolist()\n",
    "precision['xgb'] = cross_val_score(estimator=xgb, X=train_data, y=y_train, scoring='precision', cv=10).tolist()\n",
    "f_score['lr'] = cross_val_score(estimator=lr, X=train_data, y=y_train, scoring='f1', cv=10).tolist()\n",
    "f_score['rf'] = cross_val_score(estimator=rf, X=train_data, y=y_train, scoring='f1', cv=10).tolist()\n",
    "f_score['gb'] = cross_val_score(estimator=gb, X=train_data, y=y_train, scoring='f1', cv=10).tolist()\n",
    "f_score['xgb'] = cross_val_score(estimator=xgb, X=train_data, y=y_train, scoring='f1', cv=10).tolist()"
   ],
   "metadata": {
    "collapsed": false,
    "pycharm": {
     "name": "#%%\n"
    }
   }
  },
  {
   "cell_type": "code",
   "execution_count": 7,
   "outputs": [
    {
     "data": {
      "text/plain": "      roc_auc  precision    recall        f1\nlr   0.679487   0.492965  0.769353  0.600884\nrf   0.706334   0.655246  0.161867  0.259412\ngb   0.769036   0.639950  0.554073  0.593808\nxgb  0.769130   0.640458  0.547776  0.590385",
      "text/html": "<div>\n<style scoped>\n    .dataframe tbody tr th:only-of-type {\n        vertical-align: middle;\n    }\n\n    .dataframe tbody tr th {\n        vertical-align: top;\n    }\n\n    .dataframe thead th {\n        text-align: right;\n    }\n</style>\n<table border=\"1\" class=\"dataframe\">\n  <thead>\n    <tr style=\"text-align: right;\">\n      <th></th>\n      <th>roc_auc</th>\n      <th>precision</th>\n      <th>recall</th>\n      <th>f1</th>\n    </tr>\n  </thead>\n  <tbody>\n    <tr>\n      <th>lr</th>\n      <td>0.679487</td>\n      <td>0.492965</td>\n      <td>0.769353</td>\n      <td>0.600884</td>\n    </tr>\n    <tr>\n      <th>rf</th>\n      <td>0.706334</td>\n      <td>0.655246</td>\n      <td>0.161867</td>\n      <td>0.259412</td>\n    </tr>\n    <tr>\n      <th>gb</th>\n      <td>0.769036</td>\n      <td>0.639950</td>\n      <td>0.554073</td>\n      <td>0.593808</td>\n    </tr>\n    <tr>\n      <th>xgb</th>\n      <td>0.769130</td>\n      <td>0.640458</td>\n      <td>0.547776</td>\n      <td>0.590385</td>\n    </tr>\n  </tbody>\n</table>\n</div>"
     },
     "execution_count": 7,
     "metadata": {},
     "output_type": "execute_result"
    }
   ],
   "source": [
    "roc_mean = {}\n",
    "for key in roc.keys():\n",
    "    roc_mean[key] = [np.mean(roc[key])]\n",
    "precision_mean = {}\n",
    "for key in roc.keys():\n",
    "    precision_mean[key] = [np.mean(precision[key])]\n",
    "recall_mean = {}\n",
    "for key in roc.keys():\n",
    "    recall_mean[key] = [np.mean(recall[key])]\n",
    "f1_mean = {}\n",
    "for key in roc.keys():\n",
    "    f1_mean[key] = [np.mean(f_score[key])]\n",
    "\n",
    "roc_mean = pd.DataFrame.from_dict(roc_mean).T.reset_index(drop=True)\n",
    "roc_mean.columns = ['roc_auc']\n",
    "precision_mean = pd.DataFrame.from_dict(precision_mean).T.reset_index(drop=True)\n",
    "precision_mean.columns = ['precision']\n",
    "recall_mean = pd.DataFrame.from_dict(recall_mean).T.reset_index(drop=True)\n",
    "recall_mean.columns = ['recall']\n",
    "f1_mean = pd.DataFrame.from_dict(f1_mean).T.reset_index(drop=True)\n",
    "f1_mean.columns = ['f1']\n",
    "\n",
    "mean_df = pd.concat([roc_mean, precision_mean, recall_mean, f1_mean], axis=1)\n",
    "mean_df.index = ['lr', 'rf', 'gb', 'xgb']\n",
    "mean_df"
   ],
   "metadata": {
    "collapsed": false,
    "pycharm": {
     "name": "#%%\n"
    }
   }
  },
  {
   "cell_type": "code",
   "execution_count": 8,
   "outputs": [
    {
     "data": {
      "text/plain": "      roc_auc  precision    recall        f1\nlr   0.002813   0.001993  0.008237  0.003113\nrf   0.004399   0.015307  0.008486  0.010447\ngb   0.004829   0.008244  0.013460  0.008330\nxgb  0.004468   0.009064  0.015087  0.010217",
      "text/html": "<div>\n<style scoped>\n    .dataframe tbody tr th:only-of-type {\n        vertical-align: middle;\n    }\n\n    .dataframe tbody tr th {\n        vertical-align: top;\n    }\n\n    .dataframe thead th {\n        text-align: right;\n    }\n</style>\n<table border=\"1\" class=\"dataframe\">\n  <thead>\n    <tr style=\"text-align: right;\">\n      <th></th>\n      <th>roc_auc</th>\n      <th>precision</th>\n      <th>recall</th>\n      <th>f1</th>\n    </tr>\n  </thead>\n  <tbody>\n    <tr>\n      <th>lr</th>\n      <td>0.002813</td>\n      <td>0.001993</td>\n      <td>0.008237</td>\n      <td>0.003113</td>\n    </tr>\n    <tr>\n      <th>rf</th>\n      <td>0.004399</td>\n      <td>0.015307</td>\n      <td>0.008486</td>\n      <td>0.010447</td>\n    </tr>\n    <tr>\n      <th>gb</th>\n      <td>0.004829</td>\n      <td>0.008244</td>\n      <td>0.013460</td>\n      <td>0.008330</td>\n    </tr>\n    <tr>\n      <th>xgb</th>\n      <td>0.004468</td>\n      <td>0.009064</td>\n      <td>0.015087</td>\n      <td>0.010217</td>\n    </tr>\n  </tbody>\n</table>\n</div>"
     },
     "execution_count": 8,
     "metadata": {},
     "output_type": "execute_result"
    }
   ],
   "source": [
    "roc_std = {}\n",
    "for key in roc.keys():\n",
    "    roc_std[key] = [np.std(roc[key])]\n",
    "precision_std = {}\n",
    "for key in roc.keys():\n",
    "    precision_std[key] = [np.std(precision[key])]\n",
    "recall_std = {}\n",
    "for key in roc.keys():\n",
    "    recall_std[key] = [np.std(recall[key])]\n",
    "f1_std = {}\n",
    "for key in roc.keys():\n",
    "    f1_std[key] = [np.std(f_score[key])]\n",
    "\n",
    "roc_std = pd.DataFrame.from_dict(roc_std).T.reset_index(drop=True)\n",
    "roc_std.columns = ['roc_auc']\n",
    "precision_std = pd.DataFrame.from_dict(precision_std).T.reset_index(drop=True)\n",
    "precision_std.columns = ['precision']\n",
    "recall_std = pd.DataFrame.from_dict(recall_std).T.reset_index(drop=True)\n",
    "recall_std.columns = ['recall']\n",
    "f1_std = pd.DataFrame.from_dict(f1_std).T.reset_index(drop=True)\n",
    "f1_std.columns = ['f1']\n",
    "\n",
    "std_df = pd.concat([roc_std, precision_std, recall_std, f1_std], axis=1)\n",
    "std_df.index = ['lr', 'rf', 'gb', 'xgb']\n",
    "std_df"
   ],
   "metadata": {
    "collapsed": false,
    "pycharm": {
     "name": "#%%\n"
    }
   }
  },
  {
   "cell_type": "markdown",
   "source": [
    "## Hyperparameter tuning"
   ],
   "metadata": {
    "collapsed": false,
    "pycharm": {
     "name": "#%% md\n"
    }
   }
  },
  {
   "cell_type": "code",
   "execution_count": 9,
   "outputs": [],
   "source": [
    "data_train = preprocessor.fit_transform(train_data)"
   ],
   "metadata": {
    "collapsed": false,
    "pycharm": {
     "name": "#%%\n"
    }
   }
  },
  {
   "cell_type": "code",
   "execution_count": 17,
   "outputs": [
    {
     "name": "stdout",
     "output_type": "stream",
     "text": [
      "100%|██████████| 20/20 [04:31<00:00, 13.55s/trial, best loss: 0.4253192426243946]\n"
     ]
    },
    {
     "data": {
      "text/plain": "{'colsample_bytree': 0.75,\n 'learning_rate': 0.1776985096712328,\n 'max_depth': 4.0,\n 'n_estimators': 200.0,\n 'subsample': 0.75}"
     },
     "execution_count": 17,
     "metadata": {},
     "output_type": "execute_result"
    }
   ],
   "source": [
    "space = {\n",
    "    'n_estimators': hp.quniform('n_estimators', 50, 200, 50),\n",
    "    'max_depth': hp.quniform('max_depth', 3, 11, 2),\n",
    "    'learning_rate': hp.uniform('learning_rate', 0.01, 0.9),\n",
    "    'subsample': hp.quniform('subsample', 0.25, 1.0, 0.25),\n",
    "    'colsample_bytree': hp.quniform('colsample_bytree', 0.25, 1.0, 0.25)\n",
    "}\n",
    "\n",
    "def objective(params):\n",
    "    params = {'n_estimators': int(params['n_estimators']),\n",
    "              'max_depth': int(params['max_depth']),\n",
    "              'learning_rate': params['learning_rate'],\n",
    "              'subsample': params['subsample'],\n",
    "              'colsample_bytree': params['colsample_bytree']}\n",
    "    xgb = XGBClassifier(**params)\n",
    "    best_score = cross_val_score(xgb, data_train, y_train, scoring='recall',\n",
    "                                 cv=5, n_jobs=-1).mean()\n",
    "    loss = 1 - best_score\n",
    "    return loss\n",
    "\n",
    "best = fmin(fn=objective, space=space, max_evals=20,\n",
    "            rstate=np.random.RandomState(42), algo=tpe.suggest)\n",
    "best"
   ],
   "metadata": {
    "collapsed": false,
    "pycharm": {
     "name": "#%%\n"
    }
   }
  },
  {
   "cell_type": "code",
   "execution_count": 12,
   "outputs": [
    {
     "data": {
      "text/plain": "              precision  recall  f1-score  support\n0                  0.74    0.78      0.76  14958.0\n1                  0.64    0.58      0.61   9734.0\naccuracy           0.70    0.70      0.70      0.7\nmacro avg          0.69    0.68      0.68  24692.0\nweighted avg       0.70    0.70      0.70  24692.0",
      "text/html": "<div>\n<style scoped>\n    .dataframe tbody tr th:only-of-type {\n        vertical-align: middle;\n    }\n\n    .dataframe tbody tr th {\n        vertical-align: top;\n    }\n\n    .dataframe thead th {\n        text-align: right;\n    }\n</style>\n<table border=\"1\" class=\"dataframe\">\n  <thead>\n    <tr style=\"text-align: right;\">\n      <th></th>\n      <th>precision</th>\n      <th>recall</th>\n      <th>f1-score</th>\n      <th>support</th>\n    </tr>\n  </thead>\n  <tbody>\n    <tr>\n      <th>0</th>\n      <td>0.74</td>\n      <td>0.78</td>\n      <td>0.76</td>\n      <td>14958.0</td>\n    </tr>\n    <tr>\n      <th>1</th>\n      <td>0.64</td>\n      <td>0.58</td>\n      <td>0.61</td>\n      <td>9734.0</td>\n    </tr>\n    <tr>\n      <th>accuracy</th>\n      <td>0.70</td>\n      <td>0.70</td>\n      <td>0.70</td>\n      <td>0.7</td>\n    </tr>\n    <tr>\n      <th>macro avg</th>\n      <td>0.69</td>\n      <td>0.68</td>\n      <td>0.68</td>\n      <td>24692.0</td>\n    </tr>\n    <tr>\n      <th>weighted avg</th>\n      <td>0.70</td>\n      <td>0.70</td>\n      <td>0.70</td>\n      <td>24692.0</td>\n    </tr>\n  </tbody>\n</table>\n</div>"
     },
     "execution_count": 12,
     "metadata": {},
     "output_type": "execute_result"
    }
   ],
   "source": [
    "hyperparams = {\n",
    "    'colsample_bytree': 0.75,\n",
    "    'learning_rate': 0.1776985096712328,\n",
    "    'max_depth': 4,\n",
    "    'n_estimators': 200,\n",
    "    'subsample': 0.75\n",
    "}\n",
    "\n",
    "xgb = Pipeline([('transformer', preprocessor),\n",
    "                ('estimator', XGBClassifier(**hyperparams))]).fit(train_data, y_train)\n",
    "\n",
    "y_pred = xgb.predict(test_data)\n",
    "metrics = calculate_metrics(y_test, y_pred)\n",
    "\n",
    "generate_report(y_test, y_pred)"
   ],
   "metadata": {
    "collapsed": false,
    "pycharm": {
     "name": "#%%\n"
    }
   }
  },
  {
   "cell_type": "code",
   "execution_count": 13,
   "outputs": [
    {
     "name": "stdout",
     "output_type": "stream",
     "text": [
      "The accuracy is: 0.7\n",
      "The precision is: 0.64\n",
      "The recall is: 0.58\n",
      "The F1 score is: 0.61\n"
     ]
    },
    {
     "data": {
      "text/plain": "Predicted     0     1\nObserved             \n0          0.78  0.22\n1          0.42  0.58",
      "text/html": "<div>\n<style scoped>\n    .dataframe tbody tr th:only-of-type {\n        vertical-align: middle;\n    }\n\n    .dataframe tbody tr th {\n        vertical-align: top;\n    }\n\n    .dataframe thead th {\n        text-align: right;\n    }\n</style>\n<table border=\"1\" class=\"dataframe\">\n  <thead>\n    <tr style=\"text-align: right;\">\n      <th>Predicted</th>\n      <th>0</th>\n      <th>1</th>\n    </tr>\n    <tr>\n      <th>Observed</th>\n      <th></th>\n      <th></th>\n    </tr>\n  </thead>\n  <tbody>\n    <tr>\n      <th>0</th>\n      <td>0.78</td>\n      <td>0.22</td>\n    </tr>\n    <tr>\n      <th>1</th>\n      <td>0.42</td>\n      <td>0.58</td>\n    </tr>\n  </tbody>\n</table>\n</div>"
     },
     "execution_count": 13,
     "metadata": {},
     "output_type": "execute_result"
    }
   ],
   "source": [
    "metrics_summary(metrics)\n",
    "confusion_matrix(y_test, y_pred)\n",
    "\n"
   ],
   "metadata": {
    "collapsed": false,
    "pycharm": {
     "name": "#%%\n"
    }
   }
  }
 ],
 "metadata": {
  "kernelspec": {
   "display_name": "Python 3",
   "language": "python",
   "name": "python3"
  },
  "language_info": {
   "codemirror_mode": {
    "name": "ipython",
    "version": 2
   },
   "file_extension": ".py",
   "mimetype": "text/x-python",
   "name": "python",
   "nbconvert_exporter": "python",
   "pygments_lexer": "ipython2",
   "version": "2.7.6"
  }
 },
 "nbformat": 4,
 "nbformat_minor": 0
}